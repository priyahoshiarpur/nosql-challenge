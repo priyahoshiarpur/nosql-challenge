{
 "cells": [
  {
   "cell_type": "markdown",
   "id": "9a57c4c6",
   "metadata": {},
   "source": [
    "# Eat Safe, Love"
   ]
  },
  {
   "cell_type": "markdown",
   "id": "064ef857",
   "metadata": {},
   "source": [
    "## Part 1: Database and Jupyter Notebook Set Up"
   ]
  },
  {
   "cell_type": "markdown",
   "id": "664e3c1f",
   "metadata": {},
   "source": [
    "Import the data provided in the `establishments.json` file from your Terminal. Name the database `uk_food` and the collection `establishments`.\n",
    "\n",
    "Within this markdown cell, copy the line of text you used to import the data from your Terminal. This way, future analysts will be able to repeat your process.\n",
    "\n",
    "e.g.: Import the dataset with `YOUR IMPORT TEXT HERE`"
   ]
  },
  {
   "cell_type": "code",
   "execution_count": 1,
   "id": "3ecdd008",
   "metadata": {},
   "outputs": [],
   "source": [
    "# Import dependencies\n",
    "from pymongo import MongoClient\n",
    "from pprint import pprint"
   ]
  },
  {
   "cell_type": "code",
   "execution_count": 2,
   "id": "59390c4a",
   "metadata": {},
   "outputs": [],
   "source": [
    "# Create an instance of MongoClient\n",
    "mongo = MongoClient(port=27017)"
   ]
  },
  {
   "cell_type": "code",
   "execution_count": 3,
   "id": "7f9ececa",
   "metadata": {},
   "outputs": [
    {
     "name": "stdout",
     "output_type": "stream",
     "text": [
      "['admin', 'config', 'local', 'uk_food']\n"
     ]
    }
   ],
   "source": [
    "# confirm that our new database was created\n",
    "print(mongo.list_database_names())"
   ]
  },
  {
   "cell_type": "code",
   "execution_count": 4,
   "id": "71e373c1",
   "metadata": {},
   "outputs": [],
   "source": [
    "# assign the uk_food database to a variable name\n",
    "client = MongoClient()\n",
    "uk_food_db = client['uk_food']\n",
    "establishments_collection = uk_food_db['establishments']"
   ]
  },
  {
   "cell_type": "code",
   "execution_count": 5,
   "id": "ef1b89ed",
   "metadata": {},
   "outputs": [
    {
     "name": "stdout",
     "output_type": "stream",
     "text": [
      "['establishments']\n"
     ]
    }
   ],
   "source": [
    "# review the collections in our new database\n",
    "# List the collections in the uk_food database\n",
    "collections = uk_food_db.list_collection_names()\n",
    "\n",
    "# Print the list of collections\n",
    "print(collections)\n"
   ]
  },
  {
   "cell_type": "code",
   "execution_count": 6,
   "id": "18ab463c",
   "metadata": {},
   "outputs": [],
   "source": [
    "# review the collections in our new database\n",
    "\n",
    "establishments = uk_food_db['establishments']"
   ]
  },
  {
   "cell_type": "code",
   "execution_count": 7,
   "id": "6a0d92df",
   "metadata": {},
   "outputs": [
    {
     "name": "stdout",
     "output_type": "stream",
     "text": [
      "{'_id': ObjectId('64ef29f5f01962fa7e6c933b')}\n"
     ]
    }
   ],
   "source": [
    "# review a document in the establishments collection\n",
    "document = establishments.find_one()\n",
    "pprint(document)"
   ]
  },
  {
   "cell_type": "code",
   "execution_count": null,
   "id": "11c9f11b",
   "metadata": {},
   "outputs": [],
   "source": []
  },
  {
   "cell_type": "markdown",
   "id": "d5671434",
   "metadata": {},
   "source": [
    "## Part 2: Update the Database"
   ]
  },
  {
   "cell_type": "markdown",
   "id": "314bd884",
   "metadata": {},
   "source": [
    "1. An exciting new halal restaurant just opened in Greenwich, but hasn't been rated yet. The magazine has asked you to include it in your analysis. Add the following restaurant \"Penang Flavours\" to the database."
   ]
  },
  {
   "cell_type": "code",
   "execution_count": 8,
   "id": "c2da7648",
   "metadata": {},
   "outputs": [],
   "source": [
    "# Create a dictionary for the new restaurant data\n",
    "new_restaurant = {\n",
    "    \"name\": \"Penang Flavours\",\n",
    "    \"address\": \"Greenwich\",\n",
    "    \"cuisine\": \"Halal\",\n",
    "    \"rating\": None \n",
    "}\n",
    "\n"
   ]
  },
  {
   "cell_type": "code",
   "execution_count": 9,
   "id": "a6e5cece",
   "metadata": {},
   "outputs": [
    {
     "name": "stdout",
     "output_type": "stream",
     "text": [
      "Inserted ID: 64ef2ae3c1efc988ea5be3f0\n"
     ]
    }
   ],
   "source": [
    "# Insert the new restaurant into the collection\n",
    "\n",
    "insert_result = establishments_collection.insert_one(new_restaurant)\n",
    "print(\"Inserted ID:\", insert_result.inserted_id)"
   ]
  },
  {
   "cell_type": "code",
   "execution_count": 10,
   "id": "63bb10f9",
   "metadata": {},
   "outputs": [
    {
     "name": "stdout",
     "output_type": "stream",
     "text": [
      "{'_id': ObjectId('64ef2a090e05ee1df7a7abec'),\n",
      " 'address': 'Greenwich',\n",
      " 'cuisine': 'Halal',\n",
      " 'name': 'Penang Flavours',\n",
      " 'rating': None}\n"
     ]
    }
   ],
   "source": [
    "# Check that the new restaurant was inserted\n",
    "new_restaurant_query = {\"name\": \"Penang Flavours\"}\n",
    "\n",
    "# Find and display the new restaurant document\n",
    "new_restaurant = establishments_collection.find_one(new_restaurant_query)\n",
    "pprint(new_restaurant)"
   ]
  },
  {
   "cell_type": "markdown",
   "id": "0ef4395a",
   "metadata": {},
   "source": [
    "2. Find the BusinessTypeID for \"Restaurant/Cafe/Canteen\" and return only the `BusinessTypeID` and `BusinessType` fields."
   ]
  },
  {
   "cell_type": "code",
   "execution_count": 11,
   "id": "93c63829",
   "metadata": {},
   "outputs": [],
   "source": [
    "# Find the BusinessTypeID for \"Restaurant/Cafe/Canteen\" and return only the BusinessTypeID and BusinessType fields\n",
    "# Query for the specific BusinessType\n",
    "query = {\"BusinessType\": \"Restaurant/Cafe/Canteen\"}\n",
    "\n",
    "# Projection to include only BusinessTypeID and BusinessType fields\n",
    "projection = {\"_id\": 0, \"BusinessTypeID\": 1, \"BusinessType\": 1}\n",
    "\n",
    "# Find documents matching the query with the desired projection\n",
    "business_type_info = establishments_collection.find(query, projection)\n",
    "\n",
    "# Print the documents\n",
    "for doc in business_type_info:\n",
    "    print(doc)"
   ]
  },
  {
   "cell_type": "markdown",
   "id": "4e570caf",
   "metadata": {},
   "source": [
    "3. Update the new restaurant with the `BusinessTypeID` you found."
   ]
  },
  {
   "cell_type": "code",
   "execution_count": 12,
   "id": "7f599f3d",
   "metadata": {},
   "outputs": [
    {
     "name": "stdout",
     "output_type": "stream",
     "text": [
      "Matched Count: 0\n",
      "Modified Count: 0\n"
     ]
    }
   ],
   "source": [
    "# Update the new restaurant with the correct BusinessTypeID\n",
    "# Set the new BusinessTypeID\n",
    "new_business_type_id = \"1\" \n",
    "\n",
    "# Update the restaurant document\n",
    "update_result = establishments_collection.update_one(\n",
    "    query,\n",
    "    {\"$set\": {\"BusinessTypeID\": new_business_type_id}}\n",
    ")\n",
    "\n",
    "# Print the result\n",
    "print(\"Matched Count:\", update_result.matched_count)\n",
    "print(\"Modified Count:\", update_result.modified_count)"
   ]
  },
  {
   "cell_type": "code",
   "execution_count": 13,
   "id": "a6ad16f7",
   "metadata": {},
   "outputs": [
    {
     "name": "stdout",
     "output_type": "stream",
     "text": [
      "None\n"
     ]
    }
   ],
   "source": [
    "# Confirm that the new restaurant was updated\n",
    "\n",
    "# Find and display the updated restaurant document\n",
    "updated_restaurant = establishments_collection.find_one(query)\n",
    "pprint(updated_restaurant)"
   ]
  },
  {
   "cell_type": "markdown",
   "id": "67281254",
   "metadata": {},
   "source": [
    "4. The magazine is not interested in any establishments in Dover, so check how many documents contain the Dover Local Authority. Then, remove any establishments within the Dover Local Authority from the database, and check the number of documents to ensure they were deleted."
   ]
  },
  {
   "cell_type": "code",
   "execution_count": 14,
   "id": "26d643b2-b2d2-48cb-92f1-1a1292f51d4d",
   "metadata": {},
   "outputs": [
    {
     "data": {
      "text/plain": [
       "0"
      ]
     },
     "execution_count": 14,
     "metadata": {},
     "output_type": "execute_result"
    }
   ],
   "source": [
    "Dover_documents = establishments.count_documents({'LocalAuthorityName': 'Dover'})\n",
    "Dover_documents"
   ]
  },
  {
   "cell_type": "code",
   "execution_count": 15,
   "id": "768474a6",
   "metadata": {},
   "outputs": [
    {
     "name": "stdout",
     "output_type": "stream",
     "text": [
      "Number of establishments in Dover: 0\n"
     ]
    }
   ],
   "source": [
    "# Find how many documents have LocalAuthorityName as \"Dover\"\n",
    "dover_query = {\"LocalAuthorityName\": \"Dover\"}\n",
    "\n",
    "# Count the number of documents with LocalAuthorityName as \"Dover\"\n",
    "num_dover_establishments = establishments_collection.count_documents(dover_query)\n",
    "print(\"Number of establishments in Dover:\", num_dover_establishments)"
   ]
  },
  {
   "cell_type": "code",
   "execution_count": 16,
   "id": "a11d5f1b",
   "metadata": {},
   "outputs": [
    {
     "name": "stdout",
     "output_type": "stream",
     "text": [
      "Number of documents deleted: 0\n"
     ]
    }
   ],
   "source": [
    "# Delete all documents where LocalAuthorityName is \"Dover\"\n",
    "dover_query = {\"LocalAuthorityName\": \"Dover\"}\n",
    "\n",
    "# Delete documents with LocalAuthorityName as \"Dover\"\n",
    "delete_result = establishments_collection.delete_many(dover_query)\n",
    "print(\"Number of documents deleted:\", delete_result.deleted_count)"
   ]
  },
  {
   "cell_type": "code",
   "execution_count": 17,
   "id": "2a51aba0",
   "metadata": {},
   "outputs": [
    {
     "name": "stdout",
     "output_type": "stream",
     "text": [
      "No remaining documents with Dover\n"
     ]
    }
   ],
   "source": [
    "# Check if any remaining documents include Dover\n",
    "dover_query = {\"LocalAuthorityName\": \"Dover\"}\n",
    "\n",
    "# Find and display one document with LocalAuthorityName as \"Dover\"\n",
    "remaining_dover_document = establishments_collection.find_one(dover_query)\n",
    "\n",
    "# Check if there's any remaining document with \"Dover\"\n",
    "if remaining_dover_document:\n",
    "    print(\"Remaining document with Dover:\")\n",
    "    pprint(remaining_dover_document)\n",
    "else:\n",
    "    print(\"No remaining documents with Dover\")"
   ]
  },
  {
   "cell_type": "code",
   "execution_count": 18,
   "id": "8c356f7b",
   "metadata": {},
   "outputs": [
    {
     "name": "stdout",
     "output_type": "stream",
     "text": [
      "At least one remaining document:\n",
      "{'_id': ObjectId('64ef29f5f01962fa7e6c933b')}\n"
     ]
    }
   ],
   "source": [
    "# Check that other documents remain with 'find_one'\n",
    "any_remaining_document = establishments_collection.find_one()\n",
    "\n",
    "# Check if there's any remaining document\n",
    "if any_remaining_document:\n",
    "    print(\"At least one remaining document:\")\n",
    "    pprint(any_remaining_document)\n",
    "else:\n",
    "    print(\"No remaining documents\")"
   ]
  },
  {
   "cell_type": "markdown",
   "id": "e9f1662d",
   "metadata": {},
   "source": [
    "5. Some of the number values are stored as strings, when they should be stored as numbers. Use `update_many` to convert `latitude` and `longitude` to decimal numbers."
   ]
  },
  {
   "cell_type": "code",
   "execution_count": 19,
   "id": "fd4112ce",
   "metadata": {},
   "outputs": [
    {
     "name": "stdout",
     "output_type": "stream",
     "text": [
      "Modified Count: 0\n"
     ]
    }
   ],
   "source": [
    "# Change the data type from String to Decimal for longitude\n",
    "update_result = establishments_collection.update_many(\n",
    "    {\"longitude\": {\"$type\": \"string\"}},\n",
    "    [{\"$set\": {\"longitude\": {\"$toDouble\": \"$longitude\"}}}]\n",
    ")\n",
    "\n",
    "# Print the result\n",
    "print(\"Modified Count:\", update_result.modified_count)"
   ]
  },
  {
   "cell_type": "code",
   "execution_count": 20,
   "id": "08dd7c72",
   "metadata": {},
   "outputs": [
    {
     "name": "stdout",
     "output_type": "stream",
     "text": [
      "Modified Count: 0\n"
     ]
    }
   ],
   "source": [
    "# Change the data type from String to Decimal for latitude\n",
    "update_result = establishments_collection.update_many(\n",
    "    {\"latitude\": {\"$type\": \"string\"}},\n",
    "    [{\"$set\": {\"latitude\": {\"$toDouble\": \"$latitude\"}}}]\n",
    ")\n",
    "\n",
    "# Print the result\n",
    "print(\"Modified Count:\", update_result.modified_count)"
   ]
  },
  {
   "cell_type": "code",
   "execution_count": 21,
   "id": "0deacaf9",
   "metadata": {},
   "outputs": [
    {
     "name": "stdout",
     "output_type": "stream",
     "text": [
      "{'_id': ObjectId('64ef29f5f01962fa7e6c933b')}\n"
     ]
    }
   ],
   "source": [
    "# Check that the coordinates are now numbers\n",
    "document_with_coordinates = establishments_collection.find_one()\n",
    "\n",
    "# Display the document to check coordinates\n",
    "pprint(document_with_coordinates)"
   ]
  },
  {
   "cell_type": "code",
   "execution_count": null,
   "id": "4678a86c-75e0-4d34-bf26-0549c2ee8089",
   "metadata": {},
   "outputs": [],
   "source": []
  },
  {
   "cell_type": "code",
   "execution_count": null,
   "id": "2afb1bd5-bcce-47b7-a470-da0b0de3500b",
   "metadata": {},
   "outputs": [],
   "source": []
  }
 ],
 "metadata": {
  "kernelspec": {
   "display_name": "Python 3 (ipykernel)",
   "language": "python",
   "name": "python3"
  },
  "language_info": {
   "codemirror_mode": {
    "name": "ipython",
    "version": 3
   },
   "file_extension": ".py",
   "mimetype": "text/x-python",
   "name": "python",
   "nbconvert_exporter": "python",
   "pygments_lexer": "ipython3",
   "version": "3.11.4"
  }
 },
 "nbformat": 4,
 "nbformat_minor": 5
}
